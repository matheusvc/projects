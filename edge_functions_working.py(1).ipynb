#!/usr/bin/env python
import time
import serial
import tkinter as tk
from tkinter import ttk
import time
import datetime as dt
import random


ser = serial.Serial(
              
    port='/dev/ttyUSB0',
    baudrate = 19200,
    parity=serial.PARITY_NONE,
    stopbits=serial.STOPBITS_ONE,
    bytesize=serial.EIGHTBITS,
    timeout=1
    )

def popupmsg(msg):
    popup = tk.Tk()
    popup.wm_title("!")
    label = ttk.Label(popup, text=msg, font=NORM_FONT)
    label.pack(side="top", fill="x", pady=10)
    B1 = ttk.Button(popup, text="Okay", command = popup.destroy)
    B1.pack()
    popup.mainloop()
    
    
def enough_signal_write():
    thing = str(random.uniform(1,3))
    hora = str(dt.datetime.now().strftime('%H:%M:%S'))
    pack = thing + ',' + hora
    
    ser.write(str.encode('AT+SBDWT\r'))
    time.sleep(10)
    ser.write(str.encode(pack))  #mudanças feitas *funciona?*
    ser.write(str.encode('\r'))
    time.sleep(5)
    ser.write(str.encode('AT+SBDIX\r'))
    time.sleep(6)
    
    while True:
        v = ser.readline()
        b = v.rstrip()
        n = b.decode('utf-8')
        print(n)
        
def checking_signal():
    
    global Signal
    
    Signal = False
    
    while Signal is not True:    
        x = ser.readline()
        y = x.rstrip()
        z = y.decode('utf-8')
        print(z)
        ser.write(str.encode('AT+CSQ\r'))
        time.sleep(6)
        if (z.startswith("+CSQ")):
            a = int(z[5])
            if a >= 3:
                print('Qualidade do sinal', z[5], 'é suficiente')
                Signal = True
                enough_signal_write()
            else:
                print('Buscando Sinal...')
                
def read_mt_message():
    
    global lido
    
    lido = False
    
    while lido is not True:
        
        q = ser.readline()
        w = q.rstrip()
        e = w.decode('utf-8')
        print(e)
        if (e == 'SBDRING'):
            print ('Ring Alert recebido')
            time.sleep(1)
            ser.write(str.encode('AT+SBDIX\r'))
            time.sleep(10)
            ser.write(str.encode('AT+SBDRT\r'))
            time.sleep(3)
            read_mt_message()
        else:
            print ('Aguardando Ring Alert')
            time.sleep(2)
            
checking_signal()
