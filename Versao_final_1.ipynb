{
 "cells": [
  {
   "cell_type": "code",
   "execution_count": 24,
   "metadata": {},
   "outputs": [],
   "source": [
    "%matplotlib inline\n",
    "import pandas as pd\n",
    "import numpy as np\n",
    "import matplotlib.pyplot as plt\n",
    "import seaborn"
   ]
  },
  {
   "cell_type": "code",
   "execution_count": 25,
   "metadata": {},
   "outputs": [],
   "source": [
    "def f1(arquivo_nome):\n",
    "    semrush = pd.read_csv(arquivo_nome)\n",
    "    semrush_path = semrush[['Keyword','Position', 'Search Volume', 'Url']]\n",
    "    def top(x):\n",
    "        if x <=3:\n",
    "            return 'Top 3'\n",
    "        elif x<=10:\n",
    "            return 'Top 10'\n",
    "        elif x<=20:\n",
    "            return 'Top 20'\n",
    "        elif x<=50:\n",
    "            return 'Top 50'\n",
    "        else:\n",
    "            return 'Top 100'\n",
    "    semrush_path['Top'] = semrush_path['Position'].apply(top)\n",
    "    y = semrush_path['Top'].value_counts()\n",
    "    x = ['Top 100', 'Top 50', 'Top 20', 'Top 10', 'Top 3']\n",
    "    fig, ax = plt.subplots()\n",
    "    ax.bar(x,y)\n",
    "    ax.set_title('Posicionamento das Palavras-chave')\n",
    "    ax.set_ylabel('Quantidade de palavras-chave')\n",
    "    ax.plot()\n",
    "    semrush_path['Top'].value_counts()\n",
    "    "
   ]
  },
  {
   "cell_type": "code",
   "execution_count": 26,
   "metadata": {},
   "outputs": [],
   "source": [
    "def f2(arquivo_nome,path):\n",
    "    semrush = pd.read_csv(arquivo_nome)\n",
    "    semrush_filtro = semrush[['Keyword','Position', 'Search Volume', 'Url']]\n",
    "    semrush_path = semrush_filtro[semrush_filtro['Url'].str.match(path)]\n",
    "    def top(x):\n",
    "        if x <=3:\n",
    "            return 'Top 3'\n",
    "        elif x<=10:\n",
    "            return 'Top 10'\n",
    "        elif x<=20:\n",
    "            return 'Top 20'\n",
    "        elif x<=50:\n",
    "            return 'Top 50'\n",
    "        else:\n",
    "            return 'Top 100'\n",
    "    semrush_path['Top'] = semrush_path['Position'].apply(top)\n",
    "    y = semrush_path['Top'].value_counts()\n",
    "    x = ['Top 100', 'Top 50', 'Top 20', 'Top 10', 'Top 3']\n",
    "    fig, ax = plt.subplots()\n",
    "    ax.bar(x,y)\n",
    "    ax.set_title('Posicionamento das Palavras-chave')\n",
    "    ax.set_ylabel('Quantidade de palavras-chave')\n",
    "    ax.plot()\n",
    "    semrush_path['Top'].value_counts()\n",
    "    "
   ]
  },
  {
   "cell_type": "code",
   "execution_count": 27,
   "metadata": {},
   "outputs": [],
   "source": [
    "def f3(arquivo_nome,path):\n",
    "    semrush = pd.read_csv(arquivo_nome)\n",
    "    semrush_filtro = semrush[['Keyword','Position', 'Search Volume', 'Url']]\n",
    "    semrush_path = semrush_filtro.loc[semrush_filtro['Url'] == path]\n",
    "    def top(x):\n",
    "        if x <=3:\n",
    "            return 'Top 3'\n",
    "        elif x<=10:\n",
    "            return 'Top 10'\n",
    "        elif x<=20:\n",
    "            return 'Top 20'\n",
    "        elif x<=50:\n",
    "            return 'Top 50'\n",
    "        else:\n",
    "            return 'Top 100'\n",
    "    semrush_path['Top'] = semrush_path['Position'].apply(top)\n",
    "    y = semrush_path['Top'].value_counts()\n",
    "    x = ['Top 100', 'Top 50', 'Top 20', 'Top 10', 'Top 3']\n",
    "    fig, ax = plt.subplots()\n",
    "    ax.bar(x,y)\n",
    "    ax.set_title('Posicionamento das Palavras-chave')\n",
    "    ax.set_ylabel('Quantidade de palavras-chave')\n",
    "    ax.plot()\n",
    "    semrush_path['Top'].value_counts()"
   ]
  },
  {
   "cell_type": "code",
   "execution_count": 28,
   "metadata": {},
   "outputs": [
    {
     "name": "stdout",
     "output_type": "stream",
     "text": [
      "\n",
      "Você deseja analisar: \n",
      "[1]Domínio \n",
      "[2]Path \n",
      "[3]URL \n",
      "\n",
      "Digite um dos valores: 2\n"
     ]
    }
   ],
   "source": [
    "escolha = str(input('\\nVocê deseja analisar: \\n[1]Domínio \\n[2]Path \\n[3]URL \\n\\nDigite um dos valores: '))"
   ]
  },
  {
   "cell_type": "code",
   "execution_count": 29,
   "metadata": {},
   "outputs": [],
   "source": [
    "while True:\n",
    "\n",
    "    if escolha not in '123':\n",
    "        print('\\n Valor incorreto, por favor digite uma das opções exibidas\\n')\n",
    "        escolha = str(input('\\nVocê deseja analisar: \\n[1]Domínio \\n[2]Path \\n[3]URL \\n\\nDigite um dos valores: '))\n",
    "    else:\n",
    "        break"
   ]
  },
  {
   "cell_type": "code",
   "execution_count": 30,
   "metadata": {},
   "outputs": [
    {
     "name": "stdout",
     "output_type": "stream",
     "text": [
      "Primeiro cole o arquivo do semrush na área de trabalho. \n",
      "Em seguida, copie seu nome. \n",
      "Por fim cole seu nome aqui junto e escreva no final do nome .csv: poloar.com.br-domain_organic-br.csv\n"
     ]
    }
   ],
   "source": [
    "arquivo_nome = str(input(\"Primeiro cole o arquivo do semrush na área de trabalho. \\nEm seguida, copie seu nome. \\nPor fim cole seu nome aqui junto e escreva no final do nome .csv: \"))"
   ]
  },
  {
   "cell_type": "code",
   "execution_count": 31,
   "metadata": {},
   "outputs": [
    {
     "name": "stdout",
     "output_type": "stream",
     "text": [
      "Digite a URL: https://www.poloar.com.br/ar-condicionado/split\n"
     ]
    }
   ],
   "source": [
    "if escolha in '23':\n",
    "    path = str(input(\"Digite a URL: \"))\n",
    "    "
   ]
  },
  {
   "cell_type": "code",
   "execution_count": 32,
   "metadata": {},
   "outputs": [],
   "source": [
    "if escolha in '1':\n",
    "    f1(arquivo_nome)\n"
   ]
  },
  {
   "cell_type": "code",
   "execution_count": 33,
   "metadata": {},
   "outputs": [
    {
     "name": "stderr",
     "output_type": "stream",
     "text": [
      "c:\\users\\samsung\\appdata\\local\\programs\\python\\python36-32\\lib\\site-packages\\ipykernel_launcher.py:16: SettingWithCopyWarning: \n",
      "A value is trying to be set on a copy of a slice from a DataFrame.\n",
      "Try using .loc[row_indexer,col_indexer] = value instead\n",
      "\n",
      "See the caveats in the documentation: http://pandas.pydata.org/pandas-docs/stable/indexing.html#indexing-view-versus-copy\n",
      "  app.launch_new_instance()\n"
     ]
    },
    {
     "data": {
      "image/png": "[encoded data removed]",
      "text/plain": [
       "<Figure size 432x288 with 1 Axes>"
      ]
     },
     "metadata": {},
     "output_type": "display_data"
    }
   ],
   "source": [
    "if escolha in '2':\n",
    "    f2(arquivo_nome, path)\n",
    "elif escolha in '3':\n",
    "    f2(arquivo_nome, path)"
   ]
  },
  {
   "cell_type": "code",
   "execution_count": null,
   "metadata": {},
   "outputs": [],
   "source": []
  },
  {
   "cell_type": "code",
   "execution_count": null,
   "metadata": {},
   "outputs": [],
   "source": []
  }
 ],
 "metadata": {
  "kernelspec": {
   "display_name": "Python 3",
   "language": "python",
   "name": "python3"
  },
  "language_info": {
   "codemirror_mode": {
    "name": "ipython",
    "version": 3
   },
   "file_extension": ".py",
   "mimetype": "text/x-python",
   "name": "python",
   "nbconvert_exporter": "python",
   "pygments_lexer": "ipython3",
   "version": "3.6.4"
  }
 },
 "nbformat": 4,
 "nbformat_minor": 2
}
