{
 "cells": [
  {
   "cell_type": "code",
   "execution_count": 1,
   "metadata": {},
   "outputs": [
    {
     "name": "stdout",
     "output_type": "stream",
     "text": [
      "\n",
      "Você deseja analisar: \n",
      "[1]Domínio \n",
      "[2]Path \n",
      "[3]URL \n",
      "\n",
      "Digite um dos valores: 5\n",
      "\n",
      " Valor incorreto, por favor digite uma das opções exibidas\n",
      "\n",
      "\n",
      "Você deseja analisar: \n",
      "[1]Domínio \n",
      "[2]Path \n",
      "[3]URL \n",
      "\n",
      "Digite um dos valores: 2\n"
     ]
    }
   ],
   "source": [
    "escolha = str(input('\\nVocê deseja analisar: \\n[1]Domínio \\n[2]Path \\n[3]URL \\n\\nDigite um dos valores: '))\n",
    "\n",
    "while True:\n",
    "\n",
    "    if escolha not in '123':\n",
    "        print('\\n Valor incorreto, por favor digite uma das opções exibidas\\n')\n",
    "        escolha = str(input('\\nVocê deseja analisar: \\n[1]Domínio \\n[2]Path \\n[3]URL \\n\\nDigite um dos valores: '))\n",
    "    else:\n",
    "        break"
   ]
  },
  {
   "cell_type": "code",
   "execution_count": null,
   "metadata": {},
   "outputs": [],
   "source": []
  }
 ],
 "metadata": {
  "kernelspec": {
   "display_name": "Python 3",
   "language": "python",
   "name": "python3"
  },
  "language_info": {
   "codemirror_mode": {
    "name": "ipython",
    "version": 3
   },
   "file_extension": ".py",
   "mimetype": "text/x-python",
   "name": "python",
   "nbconvert_exporter": "python",
   "pygments_lexer": "ipython3",
   "version": "3.6.4"
  }
 },
 "nbformat": 4,
 "nbformat_minor": 2
}
